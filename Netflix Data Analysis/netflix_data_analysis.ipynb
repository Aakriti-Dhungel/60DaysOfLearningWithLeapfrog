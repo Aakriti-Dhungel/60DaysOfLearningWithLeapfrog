{
 "cells": [
  {
   "cell_type": "code",
   "execution_count": 3,
   "id": "8067c9e9",
   "metadata": {},
   "outputs": [
    {
     "ename": "ModuleNotFoundError",
     "evalue": "No module named 'pandas'",
     "output_type": "error",
     "traceback": [
      "\u001b[31m---------------------------------------------------------------------------\u001b[39m",
      "\u001b[31mModuleNotFoundError\u001b[39m                       Traceback (most recent call last)",
      "\u001b[36mCell\u001b[39m\u001b[36m \u001b[39m\u001b[32mIn[3]\u001b[39m\u001b[32m, line 1\u001b[39m\n\u001b[32m----> \u001b[39m\u001b[32m1\u001b[39m \u001b[38;5;28;01mimport\u001b[39;00m\u001b[38;5;250m \u001b[39m\u001b[34;01mpandas\u001b[39;00m\u001b[38;5;250m \u001b[39m\u001b[38;5;28;01mas\u001b[39;00m\u001b[38;5;250m \u001b[39m\u001b[34;01mpd\u001b[39;00m\n\u001b[32m      2\u001b[39m \u001b[38;5;28;01mimport\u001b[39;00m\u001b[38;5;250m \u001b[39m\u001b[34;01mmatplotlib\u001b[39;00m\u001b[34;01m.\u001b[39;00m\u001b[34;01mpyplot\u001b[39;00m\u001b[38;5;250m \u001b[39m\u001b[38;5;28;01mas\u001b[39;00m\u001b[38;5;250m \u001b[39m\u001b[34;01mplt\u001b[39;00m\n\u001b[32m      4\u001b[39m netflix_df = pd.read_csv(\u001b[33m\"\u001b[39m\u001b[33mnetflix_data.csv\u001b[39m\u001b[33m\"\u001b[39m)\n",
      "\u001b[31mModuleNotFoundError\u001b[39m: No module named 'pandas'"
     ]
    }
   ],
   "source": [
    "import pandas as pd\n",
    "import matplotlib.pyplot as plt\n",
    "\n",
    "netflix_df = pd.read_csv(\"netflix_data.csv\")\n",
    "\n",
    "netflix_subset = netflix_df[netflix_df[\"type\"] == \"Movie\"]\n",
    "\n",
    "subset = netflix_subset[(netflix_subset[\"release_year\"] >= 1990)]\n",
    "\n",
    "movies_1990s = subset[(subset[\"release_year\"] < 2000)]\n",
    "\n",
    "plt.hist(movies_1990s[\"duration\"])\n",
    "plt.title('Distribution of Movie Durations in the 1990s')\n",
    "plt.xlabel('Duration (minutes)')\n",
    "plt.ylabel('Number of Movies')\n",
    "plt.show()\n",
    "\n",
    "duration = 100\n",
    "\n",
    "action_movies_1990s = movies_1990s[movies_1990s[\"genre\"] == \"Action\"]\n",
    "\n",
    "short_movie_count = 0\n",
    "\n",
    "for label, row in action_movies_1990s.iterrows() :\n",
    "    if row[\"duration\"] < 90 :\n",
    "        short_movie_count = short_movie_count + 1\n",
    "    else:\n",
    "        short_movie_count = short_movie_count\n",
    "\n",
    "print(short_movie_count)"
   ]
  }
 ],
 "metadata": {
  "kernelspec": {
   "display_name": "Python 3",
   "language": "python",
   "name": "python3"
  },
  "language_info": {
   "codemirror_mode": {
    "name": "ipython",
    "version": 3
   },
   "file_extension": ".py",
   "mimetype": "text/x-python",
   "name": "python",
   "nbconvert_exporter": "python",
   "pygments_lexer": "ipython3",
   "version": "3.13.0"
  }
 },
 "nbformat": 4,
 "nbformat_minor": 5
}
