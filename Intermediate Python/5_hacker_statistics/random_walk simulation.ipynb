{
 "cells": [
  {
   "cell_type": "markdown",
   "id": "da8b4842",
   "metadata": {},
   "source": [
    "Random Walk Simulation"
   ]
  },
  {
   "cell_type": "markdown",
   "id": "dde14ae5",
   "metadata": {},
   "source": [
    "Q. Make a list random_walk that contains the first step, which is the integer 0.\n",
    "\n",
    "    Finish the for loop:\n",
    "\n",
    "    The loop should run 100 times.\n",
    "\n",
    "    On each iteration, set step equal to the last element in the random_walk list. You can use the index -1 for this.\n",
    "\n",
    "    Next, let the if-elif-else construct update step for you.\n",
    "    \n",
    "    The code that appends step to random_walk is already coded.\n",
    "\n",
    "    Print out random_walk."
   ]
  },
  {
   "cell_type": "code",
   "execution_count": 2,
   "id": "f7a404b1",
   "metadata": {},
   "outputs": [
    {
     "name": "stdout",
     "output_type": "stream",
     "text": [
      "[0, -1, 0, -1, 0, 1, 0, -1, 0, 1, 2, 6, 7, 8, 9, 11, 12, 13, 12, 13, 12, 13, 12, 11, 12, 11, 12, 13, 12, 13, 14, 13, 14, 15, 14, 15, 16, 15, 21, 20, 24, 23, 22, 23, 24, 25, 26, 27, 26, 30, 29, 30, 29, 30, 31, 32, 33, 32, 33, 32, 34, 35, 36, 37, 41, 40, 39, 38, 41, 42, 43, 44, 45, 46, 45, 46, 47, 51, 52, 53, 55, 54, 55, 56, 58, 64, 63, 64, 63, 67, 68, 69, 68, 67, 68, 69, 68, 67, 66, 65, 66]\n"
     ]
    }
   ],
   "source": [
    "import numpy as np\n",
    "\n",
    "random_walk = [0]\n",
    "\n",
    "for x in range(100):  \n",
    "    step = random_walk[-1]  \n",
    "\n",
    "    dice = np.random.randint(1, 7)  \n",
    "\n",
    "    if dice <= 2:\n",
    "        step = step - 1  \n",
    "    elif dice <= 5:\n",
    "        step = step + 1 \n",
    "    else:\n",
    "        step = step + np.random.randint(1, 7)  \n",
    "\n",
    "    random_walk.append(step)\n",
    "\n",
    "print(random_walk)\n"
   ]
  }
 ],
 "metadata": {
  "kernelspec": {
   "display_name": "Python 3",
   "language": "python",
   "name": "python3"
  },
  "language_info": {
   "codemirror_mode": {
    "name": "ipython",
    "version": 3
   },
   "file_extension": ".py",
   "mimetype": "text/x-python",
   "name": "python",
   "nbconvert_exporter": "python",
   "pygments_lexer": "ipython3",
   "version": "3.13.3"
  }
 },
 "nbformat": 4,
 "nbformat_minor": 5
}
